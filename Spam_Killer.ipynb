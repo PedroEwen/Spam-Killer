{
  "nbformat": 4,
  "nbformat_minor": 0,
  "metadata": {
    "colab": {
      "provenance": [],
      "mount_file_id": "1t-Ct4P3gFKRgz6VRDN8oTDOG_0-u0MaD",
      "authorship_tag": "ABX9TyNMsX5ZwQUVUC+SFvuFNzJb",
      "include_colab_link": true
    },
    "kernelspec": {
      "name": "python3",
      "display_name": "Python 3"
    },
    "language_info": {
      "name": "python"
    }
  },
  "cells": [
    {
      "cell_type": "markdown",
      "metadata": {
        "id": "view-in-github",
        "colab_type": "text"
      },
      "source": [
        "<a href=\"https://colab.research.google.com/github/PedroEwen/Spam-Killer/blob/main/Spam_Killer.ipynb\" target=\"_parent\"><img src=\"https://colab.research.google.com/assets/colab-badge.svg\" alt=\"Open In Colab\"/></a>"
      ]
    },
    {
      "cell_type": "markdown",
      "source": [
        "# Modelo de detecção de textos"
      ],
      "metadata": {
        "id": "_v8Qh6se7ALV"
      }
    },
    {
      "cell_type": "code",
      "source": [
        "from sklearn.metrics import accuracy_score, confusion_matrix\n",
        "import numpy as np\n",
        "import pandas as pd\n",
        "from sklearn.model_selection import train_test_split\n",
        "from sklearn.feature_extraction.text import CountVectorizer\n",
        "from sklearn.linear_model import LogisticRegression\n",
        "\n",
        "# Leitura dos dados do arquivo CSV\n",
        "df = pd.read_csv('/content/drive/MyDrive/Colab Notebooks/mail_data.csv.py')\n",
        "\n",
        "# Mapeando 'spam' para 0 e 'ham' para 1 na coluna 'Category'\n",
        "df.loc[df['Category'] == 'spam', 'Category'] = 0\n",
        "df.loc[df['Category'] == 'ham', 'Category'] = 1\n",
        "\n",
        "# Separando os dados em features (X) e rótulos (y)\n",
        "X = df['Message']\n",
        "y = df['Category'].astype(int)  # Converta os rótulos para o tipo inteiro\n",
        "\n",
        "# Vetorização dos textos\n",
        "vectorizer = CountVectorizer()\n",
        "X = vectorizer.fit_transform(X)\n",
        "\n",
        "# Divisão dos dados em conjuntos de treinamento e teste\n",
        "x_train, x_test, y_train, y_test = train_test_split(X, y, test_size=0.2, random_state=3)\n",
        "\n",
        "# Criação e treinamento do modelo de Regressão Logística\n",
        "model = LogisticRegression()\n",
        "model.fit(x_train, y_train)\n",
        "\n",
        "# Fazendo previsões\n",
        "y_pred = model.predict(x_test)\n",
        "\n",
        "# Avaliação do modelo\n",
        "accuracy = accuracy_score(y_test, y_pred)\n",
        "confusion = confusion_matrix(y_test, y_pred)\n",
        "\n",
        "#Entrada da mensagem\n",
        "nova_mensagem = input(\"Digite o texto suspeito:\")\n",
        "\n",
        "#Classificação da nova mensagem\n",
        "nova_mensagem_vectorized = vectorizer.transform([nova_mensagem])\n",
        "predictions = model.predict(nova_mensagem_vectorized)\n",
        "\n",
        "for message, predict in zip(nova_mensagem, predictions):\n",
        "  if predictions == 0:\n",
        "    print(\"É um spam \")\n",
        "  else:\n",
        "    print(\"Não é um spam\")"
      ],
      "metadata": {
        "id": "k3yMjtgSwUwo"
      },
      "execution_count": null,
      "outputs": []
    },
    {
      "cell_type": "markdown",
      "source": [
        "# Modelo para detecção de links"
      ],
      "metadata": {
        "id": "Zw0bfSDB7LlT"
      }
    }
  ]
}
